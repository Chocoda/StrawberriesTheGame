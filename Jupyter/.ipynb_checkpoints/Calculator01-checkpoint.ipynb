{
 "cells": [
  {
   "cell_type": "markdown",
   "id": "ea090727-8531-4892-a258-569d794a83ec",
   "metadata": {},
   "source": [
    "# Ten program dodaje liczby"
   ]
  },
  {
   "cell_type": "markdown",
   "id": "a8652d50-a90c-456b-84aa-effd3b46ea3f",
   "metadata": {},
   "source": [
    "## Wersja pierwotna"
   ]
  },
  {
   "cell_type": "code",
   "execution_count": 5,
   "id": "a9d7426a-7bc7-48e0-84c6-250b05acf9b6",
   "metadata": {},
   "outputs": [
    {
     "name": "stdout",
     "output_type": "stream",
     "text": [
      "Podaj pierwsza liczbe:  3\n",
      "Podaj druga liczbe:  7\n"
     ]
    },
    {
     "name": "stdout",
     "output_type": "stream",
     "text": [
      "Suma liczb 3 oraz 7 wynosi 10\n"
     ]
    }
   ],
   "source": [
    "liczba1 = float(input(\"Podaj liczbe: \"))\n",
    "liczba2 = float(input(\"Podaj druga liczbe: \"))\n",
    "znak = input(\"Podaj opoerator: \")\n",
    "\n",
    "if znak == \"+\":\n",
    "    print(liczba1 + liczba2)\n",
    "if znak == \"-\":\n",
    "    print(liczba1 - liczba2)\n",
    "if znak == \"*\":\n",
    "    print(liczba1 * liczba2)\n",
    "if znak == \"/\":\n",
    "    print(liczba1 / liczba2)"
   ]
  },
  {
   "cell_type": "markdown",
   "id": "498ca4ba-cb67-4321-ac1c-39b936b24998",
   "metadata": {},
   "source": [
    "Powyzsza wersja ma jednak trzy problemy:\n",
    "* Program dokona sprawdzenia kazego z warunkow w instrukcjach if, nawet jezeli nie jest to potrzebne. Np. Po wpisaniu znaku '+', pierwszy if obsluzy operacje dodawania, a mimo to, kolejne warunki beda spradzane.\n",
    "* Program nie informuje uzytkownika jakie sa dozwolone operacje\n",
    "* Nie jest obsluzony przypadek w ktorym uzytkownik wpisuje cos, co nie jest rozpoznawanym symbolem operacji"
   ]
  },
  {
   "cell_type": "markdown",
   "id": "d403350c-26dd-49c1-9a09-17bf565a65ca",
   "metadata": {},
   "source": [
    "## Wersja poprawiona"
   ]
  },
  {
   "cell_type": "markdown",
   "id": "25a1ca51-424b-4554-ad2f-8f1c180f0726",
   "metadata": {},
   "source": [
    "W/w bledy zostaly naprawione w ponizszym programie:\n",
    "* Uzyto instrukcji **elif** zamiast **if**\n",
    "* Wyswietlono uzytkownikowi liste dozwolonych operacji\n",
    "* Uzyto slowa kluczowego **else** na przypadek, kiedy uzytkownik wpisze cos, co nie zostanie rozpoznane przez program"
   ]
  },
  {
   "cell_type": "code",
   "execution_count": null,
   "id": "e60b1d25-a6f9-4668-8c49-579eec080f86",
   "metadata": {},
   "outputs": [],
   "source": [
    "liczba1 = float(input(\"Podaj liczbe: \"))\n",
    "liczba2 = float(input(\"Podaj druga liczbe: \"))\n",
    "znak = input(\"Podaj opoerator (+, -, *, /): \")\n",
    "\n",
    "if znak == \"+\":\n",
    "    print(liczba1 + liczba2)\n",
    "elif znak == \"-\":\n",
    "    print(liczba1 - liczba2)\n",
    "elif znak == \"*\":\n",
    "    print(liczba1 * liczba2)\n",
    "elif znak == \"/\":\n",
    "    print(liczba1 / liczba2)\n",
    "else:\n",
    "    print(\"Nieznany operator\")"
   ]
  },
  {
   "cell_type": "markdown",
   "id": "b18138dd-e421-4629-9554-491a13997c3b",
   "metadata": {},
   "source": [
    "## Najlepsza wersja"
   ]
  },
  {
   "cell_type": "markdown",
   "id": "1f8f5bc7-5da1-4ef2-a626-df36277cc33f",
   "metadata": {},
   "source": [
    "Jednak najbardziej eleganckie rozwiazanie uzywa konstrukcji **match-case**."
   ]
  },
  {
   "cell_type": "code",
   "execution_count": null,
   "id": "33544490-e5d7-4899-b7af-48afaaa033e9",
   "metadata": {},
   "outputs": [],
   "source": [
    "liczba1 = float(input(\"Podaj liczbe: \"))\n",
    "liczba2 = float(input(\"Podaj druga liczbe: \"))\n",
    "znak = input(\"Podaj opoerator (+, -, *, /): \")\n",
    "\n",
    "match znak:\n",
    "    case \"+\":\n",
    "        print(\"Dodawanie:\")\n",
    "        print(liczba1 + liczba2)\n",
    "    case \"-\":\n",
    "        print(\"Odejmowanie:\")\n",
    "        print(liczba1 - liczba2)\n",
    "    case \"*\":\n",
    "        print(\"Mnozenie:\")\n",
    "        print(liczba1 * liczba2)\n",
    "    case \"/\":\n",
    "        print(\"Dzielenie:\")\n",
    "        print(liczba1 / liczba2)\n",
    "    case _: print(\"Nieznany operator\")"
   ]
  }
 ],
 "metadata": {
  "kernelspec": {
   "display_name": "Python 3.10.7 64-bit",
   "language": "python",
   "name": "python3"
  },
  "language_info": {
   "codemirror_mode": {
    "name": "ipython",
    "version": 3
   },
   "file_extension": ".py",
   "mimetype": "text/x-python",
   "name": "python",
   "nbconvert_exporter": "python",
   "pygments_lexer": "ipython3",
   "version": "3.10.7"
  },
  "vscode": {
   "interpreter": {
    "hash": "4645ccd931729b6d8840cf5ea11d557fb56cec02858252bbd78bee8dafb2ef96"
   }
  }
 },
 "nbformat": 4,
 "nbformat_minor": 5
}
