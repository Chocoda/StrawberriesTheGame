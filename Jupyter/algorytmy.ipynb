{
 "cells": [
  {
   "cell_type": "markdown",
   "metadata": {},
   "source": [
    "## Parę podstawowych algorytmów"
   ]
  },
  {
   "cell_type": "markdown",
   "metadata": {},
   "source": [
    "### Suma - algorytm iteracyjny\n",
    "Tworzymy zmienną nazywaną \"akumulatorem\" i inicjalizujemy ją wartością 0 (niezmiennik dodawania). Iterujemy przez każdy element listy i dodajemy ten element do akumulatora."
   ]
  },
  {
   "cell_type": "code",
   "execution_count": 3,
   "metadata": {},
   "outputs": [
    {
     "name": "stdout",
     "output_type": "stream",
     "text": [
      "15\n"
     ]
    }
   ],
   "source": [
    "def suma_liczb_iter(liczby):\n",
    "    suma = 0 # \"suma\" jest w tym przypadku akumulatorem\n",
    "    for x in liczby:\n",
    "        suma += x\n",
    "    return suma\n",
    "\n",
    "print(suma_liczb_iter([3, 5, 7])) # = 15"
   ]
  },
  {
   "cell_type": "markdown",
   "metadata": {},
   "source": [
    "### Suma - algorytm rekurencyjny\n",
    "Zauważamy, że suma elementów listy to pierwszy element listy (głowy) plus suma pozostałych elementów (ogona), a sumą pustej listy jest 0 (ang. empty sum).\n",
    "\n",
    "Np. suma([3, 5, 7]) = 3 + suma([5, 7]) = 3 + 5 + suma([7]) = 3 + 5 + 7 + suma([]) = 3 + 5 + 7 + 0 = 15 "
   ]
  },
  {
   "cell_type": "code",
   "execution_count": 4,
   "metadata": {},
   "outputs": [
    {
     "name": "stdout",
     "output_type": "stream",
     "text": [
      "15\n"
     ]
    }
   ],
   "source": [
    "def suma_liczb_rec(liczby):\n",
    "    # Część bazowa (warunki stopu):\n",
    "    if len(liczby) == 0: return 0 # Suma pustego zbioru jest 0\n",
    "    # Część rekurencyjna\n",
    "    return liczby[0] + suma_liczb_rec(liczby[1:])\n",
    "\n",
    "print(suma_liczb_rec([3, 5, 7])) # = 15"
   ]
  },
  {
   "cell_type": "markdown",
   "metadata": {},
   "source": [
    "### Iloczyn - algorytm iteracyjny\n",
    "Tworzymy docelową zmienną i inicjalizujemy ją wartością 1 (niezmiennik mnożenia). Iterujemy przez każdy element listy i mnożymy akumulator przez ten element."
   ]
  },
  {
   "cell_type": "code",
   "execution_count": 5,
   "metadata": {},
   "outputs": [
    {
     "name": "stdout",
     "output_type": "stream",
     "text": [
      "105\n"
     ]
    }
   ],
   "source": [
    "def iloczyn_liczb_iter(liczby):\n",
    "    iloczyn = 1\n",
    "    for x in liczby:\n",
    "        iloczyn *= x\n",
    "    return iloczyn\n",
    "\n",
    "print(iloczyn_liczb_iter([3, 5, 7])) # = 105"
   ]
  },
  {
   "cell_type": "markdown",
   "metadata": {},
   "source": [
    "### Iloczyn - algorytm rekurencyjny\n",
    "Zauważamy, że iloczyn elementów listy to pierwszy element listy (głowy) razy iloczyn pozostałych elementów (ogona), a iloczynem pustej listy jest 1 (ang. empty product).\n",
    "\n",
    "Np. suma([3, 5, 7]) = 3 + suma([5, 7]) = 3 + 5 + suma([7]) = 3 + 5 + 7 + suma([]) = 3 + 5 + 7 + 0 = 15 "
   ]
  },
  {
   "cell_type": "code",
   "execution_count": 6,
   "metadata": {},
   "outputs": [
    {
     "name": "stdout",
     "output_type": "stream",
     "text": [
      "105\n"
     ]
    }
   ],
   "source": [
    "def iloczyn_liczb_rec(liczby):\n",
    "    # Część bazowa (warunki stopu):\n",
    "    if len(liczby) == 0: return 1 # Iloczynem pustego zbioru jest 1 \n",
    "    # Część rekurencyjna\n",
    "    return liczby[0] * iloczyn_liczb_rec(liczby[1:])\n",
    "\n",
    "print(iloczyn_liczb_rec([3, 5, 7])) # = 105"
   ]
  },
  {
   "cell_type": "markdown",
   "metadata": {},
   "source": [
    "### Minimum - algorytm iteracyjny (metoda 1)\n",
    "Ustawiamy aktualne minimum na +nieskończoność (math.inf), a następnie iterujemy przez elementy listy. Jeżeli aktualny element jest mniejszy od minimum to podmień minimum na ten element."
   ]
  },
  {
   "cell_type": "code",
   "execution_count": 7,
   "metadata": {},
   "outputs": [
    {
     "name": "stdout",
     "output_type": "stream",
     "text": [
      "-3\n"
     ]
    }
   ],
   "source": [
    "import math\n",
    "\n",
    "def minimum_iter_1(liczby):\n",
    "    minimum = math.inf\n",
    "    for x in liczby:\n",
    "        if x < minimum:\n",
    "            minimum = x\n",
    "    return minimum\n",
    "\n",
    "print(minimum_iter_1([4, 3, -1, 7, 8, -3, 0, 9])) # => -3"
   ]
  },
  {
   "cell_type": "markdown",
   "metadata": {},
   "source": [
    "### Minimum - algorytm iteracyjny (metoda 2)\n",
    "Ustawiamy aktualne minimum na pierwszy element listy (głowę), a następnie iterujemy przez pozostałe elementy listy (ogon). Jeżeli aktualny element jest mniejszy od minimum to podmień minimum na ten element."
   ]
  },
  {
   "cell_type": "code",
   "execution_count": 8,
   "metadata": {},
   "outputs": [
    {
     "name": "stdout",
     "output_type": "stream",
     "text": [
      "-3\n"
     ]
    }
   ],
   "source": [
    "import math\n",
    "\n",
    "def minimum_iter_2(liczby):\n",
    "    minimum = liczby[0]\n",
    "    for x in liczby[1:]:\n",
    "        if x < minimum:\n",
    "            minimum = x\n",
    "    return minimum\n",
    "\n",
    "print(minimum_iter_2([4, 3, -1, 7, 8, -3, 0, 9]))  # => -3"
   ]
  },
  {
   "cell_type": "markdown",
   "metadata": {},
   "source": [
    "### Minimum - algorytm rekurencyjny\n",
    "Porównaj pierwszy element listy (głowę) z minimum pozostałych elementów listy (ogona) i zwróć mniejszą wartość. Minimum listy z jednym elementem jest ten pojedynczy element."
   ]
  },
  {
   "cell_type": "code",
   "execution_count": 2,
   "metadata": {},
   "outputs": [
    {
     "name": "stdout",
     "output_type": "stream",
     "text": [
      "-3\n"
     ]
    }
   ],
   "source": [
    "import math\n",
    "def minimum_rec(liczby):\n",
    "    # Część bazowa (warunki stopu):\n",
    "    if len(liczby) == 0: return math.inf # Minimum z pustego zbioru to +nieskonczonosc\n",
    "\n",
    "    # Część rekurencyjna\n",
    "    minimum_ogona = minimum_rec(liczby[1:])\n",
    "    # Jeżeli głowa jest mniejsza od minimum ogona, zwróć głowę\n",
    "    if liczby[0] < minimum_ogona:\n",
    "        return liczby[0]\n",
    "    # Głowa nie była mniejsza od minimum ogona, zwróć więc minimum ogona\n",
    "    return minimum_ogona\n",
    "\n",
    "print(minimum_rec([4, 3, -1, 7, 8, -3, 0, 9]))  # => -3"
   ]
  },
  {
   "cell_type": "markdown",
   "metadata": {},
   "source": [
    "### Maksimum\n",
    "Algorytmy wyglądają prawie tak samo jak w przypadku minimum. Wystarczy zamienić znaki mniejszości '<' na większości '>' a +nieskończoność (math.inf) na -nieskończoność (-math.inf)."
   ]
  },
  {
   "cell_type": "markdown",
   "metadata": {},
   "source": [
    "### Silnia - algorytm iteracyjny\n",
    "Tworzymy zmienną docelowa i inicjalizujemy ją wartością 1 (niezmiennik mnożenia). Iterujemy przez liczby od 1 do n włącznie i mnożymy za każdym razem docelowa zmienna przez bierzącą liczbę."
   ]
  },
  {
   "cell_type": "code",
   "execution_count": 25,
   "metadata": {},
   "outputs": [
    {
     "name": "stdout",
     "output_type": "stream",
     "text": [
      "120\n"
     ]
    }
   ],
   "source": [
    "def silnia_iter(n):\n",
    "    silnia = 1\n",
    "    for x in range(1, n + 1): # Iteruj po liczbach: 1, 2, 3, ..., n\n",
    "        silnia *= x\n",
    "    return silnia\n",
    "\n",
    "print(silnia_iter(5)) # =120"
   ]
  },
  {
   "cell_type": "markdown",
   "metadata": {},
   "source": [
    "### Silnia = algorytm rekurencyjny\n",
    "Zauważamy, że n! = n(n-1)! oraz 0! = 1\n",
    "\n",
    "Np. 5! = 5 * 4! = 5 * 4 * 3! = 5 * 4 * 3 * 2! = 5 * 4 * 3 * 2 * 1! = 5 * 4 * 3 * 2 * 1 * 0! = 5 * 4 * 3 * 2 * 1 * 1"
   ]
  },
  {
   "cell_type": "code",
   "execution_count": 26,
   "metadata": {},
   "outputs": [
    {
     "name": "stdout",
     "output_type": "stream",
     "text": [
      "120\n"
     ]
    }
   ],
   "source": [
    "def silnia_rec(n):\n",
    "    # Część bazowa (warunki stopu):\n",
    "    if n == 0: return 1\n",
    "    # Część rekurencyjna\n",
    "    return n * silnia_rec(n-1)\n",
    "\n",
    "print(silnia_rec(5)) # =120"
   ]
  },
  {
   "cell_type": "markdown",
   "metadata": {},
   "source": [
    "### Fibonacci\n",
    "Pierwszym elementem ciągu Fibonacciego jest 0, a drugim 1. Każdy kolejny element ciągu to suma dwóch poprzednich."
   ]
  },
  {
   "cell_type": "code",
   "execution_count": 22,
   "metadata": {},
   "outputs": [
    {
     "name": "stdout",
     "output_type": "stream",
     "text": [
      "[0, 1, 1, 2, 3, 5, 8, 13, 21, 34]\n"
     ]
    }
   ],
   "source": [
    "def fib(n):\n",
    "    # Warunki stopu\n",
    "    if n == 0: return 0\n",
    "    if n == 1: return 1\n",
    "\n",
    "    # CVzesc rekurencyjna\n",
    "    return fib(n-1) + fib(n-2)\n",
    "print([fib(x) for x in range(10)])\n",
    " # = [0, 1, 1, 2, 3, 5, 8, 13, 21, 34]"
   ]
  },
  {
   "cell_type": "markdown",
   "metadata": {},
   "source": [
    "### Kwadraty liczb - algorytm iteracyjny\n",
    "Mamy listę liczb i chcemy utworzyć drugą listę, która zawiera kwadraty liczb z pierwszej listy. Aby to zrobić należy utworzyć nową, pustą listę docelową, a następnie przeiterować przez każdy element listy wejściowej, podnieść go do kwadratu i otrzymany wynik dołączyć do listy docelowej."
   ]
  },
  {
   "cell_type": "code",
   "execution_count": 28,
   "metadata": {},
   "outputs": [
    {
     "name": "stdout",
     "output_type": "stream",
     "text": [
      "[1, 4, 9, 16, 25]\n"
     ]
    }
   ],
   "source": [
    "def kwadraty_iter(liczby):\n",
    "    kwadraty = []\n",
    "    for x in liczby:\n",
    "        kwadraty.append(x**2)\n",
    "    return kwadraty\n",
    "\n",
    "print(kwadraty_iter([1, 2, 3, 4, 5])) # => [1, 4, 9, 16, 25]"
   ]
  },
  {
   "cell_type": "markdown",
   "metadata": {},
   "source": [
    "### Kwadraty liczb - algorytm rekurencyjny\n",
    "Zauważamy, że lista kwadratów list to konkatenacja listy z pierwszym elementem (głową) podniesionym do kwadratu oraz listy kwadratów pozostałych elementów listy (ogona).\n",
    "\n",
    "kwadraty([1, 2, 3, 4, 5]) = [1] + kwadraty([2, 3, 4, 5]) = [1] + [4] + kwadraty([3, 4, 5]) = [1] + [4] + [9] + kwadraty([4, 5]) itd\n",
    "\n",
    "A kwandraty z listy jedno-elementowej to lista z kwadratem tego pojedynczego elementu."
   ]
  },
  {
   "cell_type": "code",
   "execution_count": 30,
   "metadata": {},
   "outputs": [
    {
     "name": "stdout",
     "output_type": "stream",
     "text": [
      "[1, 4, 9, 16, 25]\n"
     ]
    }
   ],
   "source": [
    "def kwadraty_rec(liczby):\n",
    "    pierwszy_kwadrat = (liczby[0])**2 # kwadrat pierwszego elementu\n",
    "\n",
    "    # Część bazowa (warunki stopu):\n",
    "    if len(liczby) == 1: return [pierwszy_kwadrat]\n",
    "    \n",
    "    # Część rekurencyjna\n",
    "    return [pierwszy_kwadrat] + kwadraty_rec(liczby[1:])\n",
    "\n",
    "def kwadraty2_rec(liczby):\n",
    "    if len(liczby) == 0: return []\n",
    "\n",
    "    return [(liczby[0])**2] + kwadraty2_rec(liczby[1:])\n",
    "\n",
    "print(kwadraty_rec([1, 2, 3, 4, 5]))  # => [1, 4, 9, 16, 25]"
   ]
  }
 ],
 "metadata": {
  "kernelspec": {
   "display_name": "Python 3.10.7 64-bit",
   "language": "python",
   "name": "python3"
  },
  "language_info": {
   "codemirror_mode": {
    "name": "ipython",
    "version": 3
   },
   "file_extension": ".py",
   "mimetype": "text/x-python",
   "name": "python",
   "nbconvert_exporter": "python",
   "pygments_lexer": "ipython3",
   "version": "3.10.7"
  },
  "orig_nbformat": 4,
  "vscode": {
   "interpreter": {
    "hash": "4645ccd931729b6d8840cf5ea11d557fb56cec02858252bbd78bee8dafb2ef96"
   }
  }
 },
 "nbformat": 4,
 "nbformat_minor": 2
}
