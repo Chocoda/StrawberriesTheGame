{
 "cells": [
  {
   "cell_type": "markdown",
   "metadata": {},
   "source": [
    "# Stringi\n",
    "## Literaly proste"
   ]
  },
  {
   "cell_type": "code",
   "execution_count": 16,
   "metadata": {},
   "outputs": [
    {
     "data": {
      "text/plain": [
       "\"Aby uzyskac nowa linijke w literale prostym nalezy wpisac do niego kombinacje odwrocony ukosnik + litera 'n', czyli \\n\""
      ]
     },
     "execution_count": 16,
     "metadata": {},
     "output_type": "execute_result"
    }
   ],
   "source": [
    "\"To jest lancuch nazywany tez stringiem z cudzyslowiu podwojnym\"\n",
    "'To jest lancuch w cydzuslowiu pojeduynczym'\n",
    "\"Lancuchy w podwojnych cudzyslowiach moga zawierac jako czesc napisu pojedyncze cudzyslowy: ', ''', 'cos' itp\"\n",
    "'Lancuchy w pojedynczych cudwyslowiach moga zawierac z sobie podwojne cudzyslowy: \"; \"\"\"; \"cos\" itp'\n",
    "\"Aby uzyskac nowa linijke w literale prostym nalezy wpisac do niego kombinacje odwrocony ukosnik + litera 'n', czyli \\n\""
   ]
  },
  {
   "cell_type": "markdown",
   "metadata": {},
   "source": [
    "## Literaly wielolinijkowe"
   ]
  },
  {
   "cell_type": "code",
   "execution_count": 17,
   "metadata": {},
   "outputs": [
    {
     "data": {
      "text/plain": [
       "'\\nJezeli literal lancucha zaczyna sie i konczy trzema znakami cudzyslowiu (pojedynczego lub podwojnego),\\nto taki string moze miec wiele linijek\\n'"
      ]
     },
     "execution_count": 17,
     "metadata": {},
     "output_type": "execute_result"
    }
   ],
   "source": [
    "\"\"\"\n",
    "Jezeli literal lancucha zaczyna sie i konczy trzema znakami cudzyslowiu (pojedynczego lub podwojnego),\n",
    "to taki string moze miec wiele linijek\n",
    "\"\"\""
   ]
  },
  {
   "cell_type": "markdown",
   "metadata": {},
   "source": [
    "Tego typu literaly stringow moga byc uzywane jako komentarze wielolinijkowe np:"
   ]
  },
  {
   "cell_type": "code",
   "execution_count": 18,
   "metadata": {},
   "outputs": [
    {
     "name": "stdout",
     "output_type": "stream",
     "text": [
      "5\n"
     ]
    }
   ],
   "source": [
    "a = 2\n",
    "b = 3\n",
    "\"\"\"\n",
    "Nastepna linijka doda do siebie liczbe w zmiennej 'a' oraz liczbe w zmiennej 'b',\n",
    "na nastepnie wyswietli wynik tego dodawania\n",
    "\"\"\"\n",
    "print(a+b)"
   ]
  },
  {
   "cell_type": "markdown",
   "metadata": {},
   "source": [
    "## F-stringi czyli interpolacja lancuchow"
   ]
  },
  {
   "cell_type": "markdown",
   "metadata": {},
   "source": [
    "Takiej konstrukcji powinno sie uzywac jak najczesciej zamiast konkatenacji z uzyciem operatora '+'"
   ]
  },
  {
   "cell_type": "code",
   "execution_count": 19,
   "metadata": {},
   "outputs": [
    {
     "data": {
      "text/plain": [
       "\"Stringi poprzedzone litera 'f' przed cudzyslowiem moga w sobie zawierac wyrazenia jak np 15 w tym zmienne: Hello world\""
      ]
     },
     "execution_count": 19,
     "metadata": {},
     "output_type": "execute_result"
    }
   ],
   "source": [
    "hello = \"Hello world\"\n",
    "f\"Stringi poprzedzone litera 'f' przed cudzyslowiem moga w sobie zawierac wyrazenia jak np { 3 * 5 } w tym zmienne: { hello }\""
   ]
  },
  {
   "cell_type": "code",
   "execution_count": 20,
   "metadata": {},
   "outputs": [
    {
     "data": {
      "text/plain": [
       "\"Nalezy unikac tworzenia lancuchow z uzyciem operatora '+'\""
      ]
     },
     "execution_count": 20,
     "metadata": {},
     "output_type": "execute_result"
    }
   ],
   "source": [
    "\"Nalezy unikac tworzenia lancuchow \" + \"z uzyciem operatora '+'\""
   ]
  },
  {
   "cell_type": "markdown",
   "metadata": {},
   "source": [
    "# Indeksowanie"
   ]
  },
  {
   "cell_type": "markdown",
   "metadata": {},
   "source": [
    "### Wyswietlanie znaku za pomoca indeksu"
   ]
  },
  {
   "cell_type": "code",
   "execution_count": 23,
   "metadata": {},
   "outputs": [
    {
     "name": "stdout",
     "output_type": "stream",
     "text": [
      "P\n",
      "r\n"
     ]
    },
    {
     "data": {
      "text/plain": [
       "''"
      ]
     },
     "execution_count": 23,
     "metadata": {},
     "output_type": "execute_result"
    }
   ],
   "source": [
    "course = \"Python for beginners\"\n",
    "\"\"\"       012345...\"\"\"\n",
    "print(course[0])\n",
    "\n",
    "\"\"\"W lancuchu kazdy znak ma swoj indeks to znaczy przypisany sobie numer. Pierwszy znak ma przypisana\n",
    "liczbe 0, drugi - 1, trzeci - 2 itd.  Zeby wyszwietlic jeden znak za pomoca indeksu uzywa sie kwadratowych nawiasow\"\"\"\n",
    "\n",
    "print(course[-2])\n",
    "\n",
    "\"\"\" W^pisujac ujemne liczby Python odlicza znaki od konca. Czyli gdy napisze course[-2] Python wyszwietli sie przed ostatnia liczba.\"\"\"\n",
    "''"
   ]
  },
  {
   "cell_type": "markdown",
   "metadata": {},
   "source": [
    " ### Wyswietlanie ciag znakow za pomoca indeksow"
   ]
  },
  {
   "cell_type": "code",
   "execution_count": 22,
   "metadata": {},
   "outputs": [
    {
     "name": "stdout",
     "output_type": "stream",
     "text": [
      "Pyt\n",
      "Python for Beginners\n",
      "Pytho\n",
      "Python for Beginners\n"
     ]
    },
    {
     "data": {
      "text/plain": [
       "'Wiec jezeli nie podam zadnego indeksu Python wyswietli caly string skoro pierwsze puste miejsce potraktuje\\njako zero a drugie jako koniec textu'"
      ]
     },
     "execution_count": 22,
     "metadata": {},
     "output_type": "execute_result"
    }
   ],
   "source": [
    "course = \"Python for Beginners\"\n",
    "print(course[0:3])\n",
    "\n",
    "\"\"\" Ten program wyswietla wszystkie znaki z indeksami pomiedzy 0 (wlacznie) a 3 (rozlacznie):\n",
    " To znaczy ze wyszwietla znaki z indeksami 0, 1 i 2 lecz nie 3\n",
    "Czyli po prostu 'Pyt'.\"\"\"\n",
    "print(course[0:])\n",
    "\"\"\"Lecz jezeli na drugim miejscu nic sie nie poda Python wyswietli wszystkie znaki od podanego indeksu do konca \n",
    "lancucha.\"\"\"\n",
    "print(course[:5])\n",
    "\"\"\"Lecz jezeli sie nie poda pierwszego indeksu, Python uzna go jako 0.\"\"\"\n",
    "print(course[:])\n",
    "\"\"\"Wiec jezeli nie podam zadnego indeksu Python wyswietli caly string skoro pierwsze puste miejsce potraktuje\n",
    "jako zero a drugie jako koniec tekstu.\"\"\""
   ]
  },
  {
   "cell_type": "code",
   "execution_count": null,
   "metadata": {},
   "outputs": [],
   "source": []
  }
 ],
 "metadata": {
  "kernelspec": {
   "display_name": "Python 3.10.7 64-bit",
   "language": "python",
   "name": "python3"
  },
  "language_info": {
   "codemirror_mode": {
    "name": "ipython",
    "version": 3
   },
   "file_extension": ".py",
   "mimetype": "text/x-python",
   "name": "python",
   "nbconvert_exporter": "python",
   "pygments_lexer": "ipython3",
   "version": "3.10.7"
  },
  "orig_nbformat": 4,
  "vscode": {
   "interpreter": {
    "hash": "4645ccd931729b6d8840cf5ea11d557fb56cec02858252bbd78bee8dafb2ef96"
   }
  }
 },
 "nbformat": 4,
 "nbformat_minor": 2
}
